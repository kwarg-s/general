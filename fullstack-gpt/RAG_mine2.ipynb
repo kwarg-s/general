{
 "cells": [
  {
   "cell_type": "code",
   "execution_count": 1,
   "metadata": {},
   "outputs": [],
   "source": [
    "from dotenv import load_dotenv\n",
    "import os\n",
    "\n",
    "# load .env\n",
    "load_dotenv()\n",
    "\n",
    "API_KEY = os.environ.get('API_KEY')\n",
    "ACCESS_KEY = os.environ.get('ACCESS_KEY')\n",
    "SERVER = os.environ.get('SERVER')"
   ]
  },
  {
   "cell_type": "code",
   "execution_count": 7,
   "metadata": {},
   "outputs": [],
   "source": [
    "from langchain.chat_models import ChatOpenAI\n",
    "from langchain.document_loaders import UnstructuredFileLoader\n",
    "from langchain.text_splitter import CharacterTextSplitter\n",
    "from langchain.embeddings import OpenAIEmbeddings, CacheBackedEmbeddings\n",
    "from langchain.vectorstores import Chroma\n",
    "from langchain.storage import LocalFileStore\n",
    "\n",
    "cache_dir = LocalFileStore(\"./.cache/\")\n",
    "\n",
    "splitter = CharacterTextSplitter.from_tiktoken_encoder(\n",
    "    separator=\"\\n\",\n",
    "    chunk_size=600,\n",
    "    chunk_overlap=100,\n",
    ")\n",
    "loader = UnstructuredFileLoader(\"./files/subway.txt\")\n",
    "\n",
    "docs = loader.load_and_split(text_splitter=splitter)\n",
    "\n",
    "embeddings = OpenAIEmbeddings()\n",
    "\n",
    "cached_embeddings = CacheBackedEmbeddings.from_bytes_store(embeddings, cache_dir)\n",
    "\n",
    "vectorstore = Chroma.from_documents(docs, cached_embeddings)"
   ]
  },
  {
   "cell_type": "code",
   "execution_count": 8,
   "metadata": {},
   "outputs": [
    {
     "name": "stdout",
     "output_type": "stream",
     "text": [
      "[Document(page_content='\"2412\",\"우이신설경전철\",\"408\",\"우이신설선\",\"4709\",\"북한산보국문\"\\n\"2412\",\"우이신설경전철\",\"408\",\"우이신설선\",\"4710\",\"정릉\"\\n\"2412\",\"우이신설경전철\",\"408\",\"우이신설선\",\"4711\",\"성신여대입구(돈암)\"\\n\"2412\",\"우이신설경전철\",\"408\",\"우이신설선\",\"4712\",\"보문\"\\n\"2412\",\"우이신설경전철\",\"408\",\"우이신설선\",\"4713\",\"신설동\"\\n\"2127\",\"국토교통부(한국철도공사)\",\"114\",\"서해선\",\"4804\",\"소사\"\\n\"2127\",\"국토교통부(한국철도공사)\",\"114\",\"서해선\",\"4805\",\"소새울\"\\n\"2127\",\"국토교통부(한국철도공사)\",\"114\",\"서해선\",\"4806\",\"시흥대야\"\\n\"2127\",\"국토교통부(한국철도공사)\",\"114\",\"서해선\",\"4807\",\"신천\"', metadata={'source': './files/subway.txt'}), Document(page_content='\"2111\",\"한국철도공사\",\"102\",\"경인선\",\"1803\",\"역곡\"\\n\"2111\",\"한국철도공사\",\"102\",\"경인선\",\"1804\",\"부천\"\\n\"2111\",\"한국철도공사\",\"102\",\"경인선\",\"1805\",\"송내\"\\n\"2111\",\"한국철도공사\",\"102\",\"경인선\",\"1806\",\"부평\"\\n\"2111\",\"한국철도공사\",\"102\",\"경인선\",\"1807\",\"백운\"\\n\"2111\",\"한국철도공사\",\"102\",\"경인선\",\"1808\",\"동암\"\\n\"2111\",\"한국철도공사\",\"102\",\"경인선\",\"1809\",\"주안\"\\n\"2111\",\"한국철도공사\",\"102\",\"경인선\",\"1810\",\"제물포\"\\n\"2111\",\"한국철도공사\",\"102\",\"경인선\",\"1811\",\"동인천\"\\n\"2111\",\"한국철도공사\",\"102\",\"경인선\",\"1812\",\"인천\"\\n\"2111\",\"한국철도공사\",\"102\",\"경인선\",\"1813\",\"구일\"\\n\"2111\",\"한국철도공사\",\"102\",\"경인선\",\"1814\",\"소사\"\\n\"2111\",\"한국철도공사\",\"102\",\"경인선\",\"1815\",\"부개\"', metadata={'source': './files/subway.txt'}), Document(page_content='\"2111\",\"한국철도공사\",\"113\",\"경강선\",\"1503\",\"삼동\"\\n\"2111\",\"한국철도공사\",\"113\",\"경강선\",\"1504\",\"경기광주\"\\n\"2111\",\"한국철도공사\",\"113\",\"경강선\",\"1505\",\"초월\"\\n\"2111\",\"한국철도공사\",\"113\",\"경강선\",\"1506\",\"곤지암\"\\n\"2111\",\"한국철도공사\",\"113\",\"경강선\",\"1507\",\"신둔도예촌\"\\n\"2111\",\"한국철도공사\",\"113\",\"경강선\",\"1508\",\"이천\"\\n\"2111\",\"한국철도공사\",\"113\",\"경강선\",\"1509\",\"부발\"\\n\"2111\",\"한국철도공사\",\"113\",\"경강선\",\"1510\",\"세종대왕릉\"\\n\"2111\",\"한국철도공사\",\"113\",\"경강선\",\"1511\",\"여주\"\\n\"2111\",\"한국철도공사\",\"101\",\"경부선\",\"1701\",\"구로\"\\n\"2111\",\"한국철도공사\",\"101\",\"경부선\",\"1702\",\"가산디지털단지\"\\n\"2111\",\"한국철도공사\",\"101\",\"경부선\",\"1703\",\"금천구청\"', metadata={'source': './files/subway.txt'}), Document(page_content='\"2111\",\"한국철도공사\",\"107\",\"일산선\",\"1957\",\"주엽\"\\n\"2111\",\"한국철도공사\",\"107\",\"일산선\",\"1958\",\"대화\"\\n\"2110\",\"서울교통공사\",\"205\",\"5호선\",\"2511\",\"방화\"\\n\"2110\",\"서울교통공사\",\"205\",\"5호선\",\"2512\",\"개화산\"\\n\"2110\",\"서울교통공사\",\"205\",\"5호선\",\"2513\",\"김포공항\"\\n\"2110\",\"서울교통공사\",\"205\",\"5호선\",\"2514\",\"송정\"\\n\"2110\",\"서울교통공사\",\"205\",\"5호선\",\"2515\",\"마곡\"\\n\"2110\",\"서울교통공사\",\"205\",\"5호선\",\"2516\",\"발산\"\\n\"2110\",\"서울교통공사\",\"205\",\"5호선\",\"2517\",\"우장산\"\\n\"2110\",\"서울교통공사\",\"205\",\"5호선\",\"2518\",\"화곡\"\\n\"2110\",\"서울교통공사\",\"205\",\"5호선\",\"2519\",\"까치산\"\\n\"2110\",\"서울교통공사\",\"205\",\"5호선\",\"2520\",\"신정(은행정)\"\\n\"2110\",\"서울교통공사\",\"205\",\"5호선\",\"2521\",\"목동\"', metadata={'source': './files/subway.txt'})]\n"
     ]
    }
   ],
   "source": [
    "results = vectorstore.similarity_search(\"문서의 주제가 무엇인가요?\")\n",
    "print(results)"
   ]
  },
  {
   "cell_type": "code",
   "execution_count": 6,
   "metadata": {},
   "outputs": [
    {
     "data": {
      "text/plain": [
       "AIMessage(content='서울과 인천 지하철 노선과 역 정보.')"
      ]
     },
     "execution_count": 6,
     "metadata": {},
     "output_type": "execute_result"
    }
   ],
   "source": [
    "from langchain.chat_models import ChatOpenAI\n",
    "from langchain.document_loaders import UnstructuredFileLoader\n",
    "from langchain.text_splitter import CharacterTextSplitter\n",
    "from langchain.embeddings import OpenAIEmbeddings, CacheBackedEmbeddings\n",
    "from langchain.vectorstores import FAISS\n",
    "from langchain.storage import LocalFileStore\n",
    "from langchain.prompts import ChatPromptTemplate\n",
    "from langchain.schema.runnable import RunnablePassthrough\n",
    "\n",
    "llm = ChatOpenAI(\n",
    "    temperature=0.1,\n",
    ")\n",
    "\n",
    "cache_dir = LocalFileStore(\"./.cache/\")\n",
    "\n",
    "splitter = CharacterTextSplitter.from_tiktoken_encoder(\n",
    "    separator=\"\\n\",\n",
    "    chunk_size=600,\n",
    "    chunk_overlap=100,\n",
    ")\n",
    "loader = UnstructuredFileLoader(\"./files/subway.txt\")\n",
    "\n",
    "docs = loader.load_and_split(text_splitter=splitter)\n",
    "\n",
    "embeddings = OpenAIEmbeddings()\n",
    "\n",
    "cached_embeddings = CacheBackedEmbeddings.from_bytes_store(embeddings, cache_dir)\n",
    "\n",
    "vectorstore = FAISS.from_documents(docs, cached_embeddings)\n",
    "\n",
    "\n",
    "# 검색기 정의: 벡터 스토어를 검색기로 이용한다.\n",
    "retriver = vectorstore.as_retriever()\n",
    "\n",
    "# context에 검색기를 집어 넣는다.\n",
    "# question에 새로 입력한 텍스트를 통과시켜서 받는다.\n",
    "prompt = ChatPromptTemplate.from_messages(\n",
    "    [\n",
    "        (\n",
    "            \"system\",\n",
    "            \"\"\"당신은 훌륭한 어시스턴트입니다.\n",
    "            이어지는 context만 사용해서 질문에 답변해주세요.\n",
    "            만약 정답을 모를 경우에는, 답을 지어내지 말아주세요.:\\n\\n{context}\"\"\",\n",
    "        ),\n",
    "        (\"human\", \"{question}\"),\n",
    "    ]\n",
    ")\n",
    "\n",
    "chain = (\n",
    "    {\n",
    "        \"context\": retriver,\n",
    "        \"question\": RunnablePassthrough(),\n",
    "    }\n",
    "    | prompt\n",
    "    | llm\n",
    ")\n",
    "\n",
    "chain.invoke(\"문서의 내용을 30글자 내로 요약해주세요\")"
   ]
  },
  {
   "cell_type": "code",
   "execution_count": 9,
   "metadata": {},
   "outputs": [
    {
     "data": {
      "text/plain": [
       "AIMessage(content='한국의 철도 및 지하철 노선에 관한 정보입니다.')"
      ]
     },
     "execution_count": 9,
     "metadata": {},
     "output_type": "execute_result"
    }
   ],
   "source": [
    "from langchain.chat_models import ChatOpenAI\n",
    "from langchain.document_loaders import UnstructuredFileLoader\n",
    "from langchain.text_splitter import CharacterTextSplitter\n",
    "from langchain.embeddings import OpenAIEmbeddings, CacheBackedEmbeddings\n",
    "from langchain.vectorstores import FAISS\n",
    "from langchain.storage import LocalFileStore\n",
    "from langchain.prompts import ChatPromptTemplate\n",
    "from langchain.schema.runnable import RunnablePassthrough, RunnableLambda\n",
    "\n",
    "llm = ChatOpenAI(\n",
    "    temperature=0.1,\n",
    ")\n",
    "\n",
    "cache_dir = LocalFileStore(\"./.cache/\")\n",
    "\n",
    "splitter = CharacterTextSplitter.from_tiktoken_encoder(\n",
    "    separator=\"\\n\",\n",
    "    chunk_size=600,\n",
    "    chunk_overlap=100,\n",
    ")\n",
    "loader = UnstructuredFileLoader(\"./files/subway.txt\")\n",
    "\n",
    "docs = loader.load_and_split(text_splitter=splitter)\n",
    "\n",
    "embeddings = OpenAIEmbeddings()\n",
    "\n",
    "cached_embeddings = CacheBackedEmbeddings.from_bytes_store(embeddings, cache_dir)\n",
    "\n",
    "vectorstore = FAISS.from_documents(docs, cached_embeddings)\n",
    "\n",
    "retriever = vectorstore.as_retriever()\n",
    "\n",
    "\n",
    "map_doc_prompt = ChatPromptTemplate.from_messages(\n",
    "    [\n",
    "        (\n",
    "            \"system\",\n",
    "            \"\"\"\n",
    "            주어진 긴 문서를 사용하여, 질문을 답하기 위해 관련이 있는 텍스트를 찾아주세요. \n",
    "            관련 있는 텍스트를 반환해주세요. 만약 관련 있는 텍스트가 없으면 ''를 반환해주세요.\n",
    "            -------\n",
    "            {context}\n",
    "            \"\"\",\n",
    "        ),\n",
    "        (\"human\", \"{question}\"),\n",
    "    ]\n",
    ")\n",
    "\n",
    "map_doc_chain = map_doc_prompt | llm\n",
    "\n",
    "\n",
    "def map_docs(inputs):\n",
    "    documents = inputs[\"documents\"]\n",
    "    question = inputs[\"question\"]\n",
    "    return \"\\n\\n\".join(\n",
    "        map_doc_chain.invoke({\"context\": doc.page_content, \"question\": question}).content for doc in documents\n",
    "    )\n",
    "\n",
    "\n",
    "map_chain = {\n",
    "    \"documents\": retriever,\n",
    "    \"question\": RunnablePassthrough(),\n",
    "} | RunnableLambda(map_docs)\n",
    "\n",
    "final_prompt = ChatPromptTemplate.from_messages(\n",
    "    [\n",
    "        (\n",
    "            \"system\",\n",
    "            \"\"\"\n",
    "            긴 문서 하나와 질문이 주어지면, 답안을 만들어 주세요. \n",
    "            답을 모를 경우, 모른다고 답해주세요. 답을 지어내지 말아주세요. \n",
    "            ------\n",
    "            {context}\n",
    "            \"\"\",\n",
    "        ),\n",
    "        (\"human\", \"{question}\"),\n",
    "    ]\n",
    ")\n",
    "\n",
    "chain = {\"context\": map_chain, \"question\": RunnablePassthrough()} | final_prompt | llm\n",
    "\n",
    "chain.invoke(\"문서의 주제가 무엇인가요\")"
   ]
  },
  {
   "cell_type": "code",
   "execution_count": 13,
   "metadata": {},
   "outputs": [
    {
     "data": {
      "text/plain": [
       "AIMessage(content='분당선입니다.')"
      ]
     },
     "execution_count": 13,
     "metadata": {},
     "output_type": "execute_result"
    }
   ],
   "source": [
    "chain.invoke(\"역의 개수가 가장 많은 호선은 몇호선인가요?\")"
   ]
  },
  {
   "cell_type": "code",
   "execution_count": 16,
   "metadata": {},
   "outputs": [
    {
     "data": {
      "text/plain": [
       "AIMessage(content='7호선')"
      ]
     },
     "execution_count": 16,
     "metadata": {},
     "output_type": "execute_result"
    }
   ],
   "source": [
    "chain.invoke(\"역의 개수가 가장 많은 호선은 몇호선인가요?\")"
   ]
  },
  {
   "cell_type": "code",
   "execution_count": 18,
   "metadata": {},
   "outputs": [
    {
     "data": {
      "text/plain": [
       "AIMessage(content='\"분당선\"에는 총 7개의 역이 있습니다.')"
      ]
     },
     "execution_count": 18,
     "metadata": {},
     "output_type": "execute_result"
    }
   ],
   "source": [
    "chain.invoke(\"분당선에는 몇개의 역이 있나요?\")"
   ]
  },
  {
   "cell_type": "code",
   "execution_count": null,
   "metadata": {},
   "outputs": [],
   "source": []
  }
 ],
 "metadata": {
  "kernelspec": {
   "display_name": "env",
   "language": "python",
   "name": "python3"
  },
  "language_info": {
   "codemirror_mode": {
    "name": "ipython",
    "version": 3
   },
   "file_extension": ".py",
   "mimetype": "text/x-python",
   "name": "python",
   "nbconvert_exporter": "python",
   "pygments_lexer": "ipython3",
   "version": "3.11.6"
  }
 },
 "nbformat": 4,
 "nbformat_minor": 2
}
